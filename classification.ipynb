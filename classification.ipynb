{
  "nbformat": 4,
  "nbformat_minor": 0,
  "metadata": {
    "language_info": {
      "codemirror_mode": {
        "name": "ipython",
        "version": 3
      },
      "file_extension": ".py",
      "mimetype": "text/x-python",
      "name": "python",
      "nbconvert_exporter": "python",
      "pygments_lexer": "ipython3",
      "version": "3.8.8"
    },
    "orig_nbformat": 2,
    "kernelspec": {
      "name": "python388jvsc74a57bd0571ed7770a4ab2468c2e866bdfb21d54424bbe1473b782e633f1d6b3e2c4c741",
      "display_name": "Python 3.8.8 64-bit ('base': conda)"
    },
    "colab": {
      "name": "classification.ipynb",
      "provenance": [],
      "include_colab_link": true
    }
  },
  "cells": [
    {
      "cell_type": "markdown",
      "metadata": {
        "id": "view-in-github",
        "colab_type": "text"
      },
      "source": [
        "<a href=\"https://colab.research.google.com/github/yashraj-02-techie/mldls/blob/main/classification.ipynb\" target=\"_parent\"><img src=\"https://colab.research.google.com/assets/colab-badge.svg\" alt=\"Open In Colab\"/></a>"
      ]
    },
    {
      "cell_type": "code",
      "metadata": {
        "id": "49U9TiIQfdXq"
      },
      "source": [
        "import numpy as np\n",
        "import pandas as pd"
      ],
      "execution_count": null,
      "outputs": []
    },
    {
      "cell_type": "code",
      "metadata": {
        "id": "jkQHj2c6fdXz",
        "outputId": "377f34c6-d54b-4cd9-de81-0d7fe84d955b"
      },
      "source": [
        "dataset = pd.read_csv('fetal_health.csv', usecols=['accelerations','fetal_movement','uterine_contractions','light_decelerations','fetal_health'])\n",
        "print(dataset)"
      ],
      "execution_count": null,
      "outputs": [
        {
          "output_type": "stream",
          "text": [
            "      accelerations  fetal_movement  uterine_contractions  \\\n",
            "0             0.000           0.000                 0.000   \n",
            "1             0.006           0.000                 0.006   \n",
            "2             0.003           0.000                 0.008   \n",
            "3             0.003           0.000                 0.008   \n",
            "4             0.007           0.000                 0.008   \n",
            "...             ...             ...                   ...   \n",
            "2121          0.000           0.000                 0.007   \n",
            "2122          0.001           0.000                 0.007   \n",
            "2123          0.001           0.000                 0.007   \n",
            "2124          0.001           0.000                 0.006   \n",
            "2125          0.002           0.002                 0.008   \n",
            "\n",
            "      light_decelerations  fetal_health  \n",
            "0                   0.000           2.0  \n",
            "1                   0.003           1.0  \n",
            "2                   0.003           1.0  \n",
            "3                   0.003           1.0  \n",
            "4                   0.000           1.0  \n",
            "...                   ...           ...  \n",
            "2121                0.000           2.0  \n",
            "2122                0.000           2.0  \n",
            "2123                0.000           2.0  \n",
            "2124                0.000           2.0  \n",
            "2125                0.000           1.0  \n",
            "\n",
            "[2126 rows x 5 columns]\n"
          ],
          "name": "stdout"
        }
      ]
    },
    {
      "cell_type": "code",
      "metadata": {
        "id": "eoU9qg98fdX3"
      },
      "source": [
        "X =  dataset.iloc[:,0:4].values\n",
        "Y = dataset.iloc[:,-1].values"
      ],
      "execution_count": null,
      "outputs": []
    },
    {
      "cell_type": "code",
      "metadata": {
        "id": "RpormlBifdX3",
        "outputId": "8d35e22c-227c-4f63-ff0f-b68bce938e83"
      },
      "source": [
        "print(X.shape, Y.shape)"
      ],
      "execution_count": null,
      "outputs": [
        {
          "output_type": "stream",
          "text": [
            "(2126, 4) (2126,)\n"
          ],
          "name": "stdout"
        }
      ]
    },
    {
      "cell_type": "code",
      "metadata": {
        "id": "ND0YZxNsfdX4",
        "outputId": "fd01d5c4-f7f7-4632-97ac-0d592d0a0f64"
      },
      "source": [
        "from sklearn.model_selection import train_test_split\n",
        "X_train, X_test, Y_train, Y_test = train_test_split(X,Y, test_size= 0.2)\n",
        "print(X_train.shape, X_test.shape)"
      ],
      "execution_count": null,
      "outputs": [
        {
          "output_type": "stream",
          "text": [
            "(1700, 4) (426, 4)\n"
          ],
          "name": "stdout"
        }
      ]
    },
    {
      "cell_type": "code",
      "metadata": {
        "id": "fUEUE81_fdX5",
        "outputId": "e297dd0e-e4ae-4c44-eb16-83e982f45309"
      },
      "source": [
        "# Implementing Logistic Regression (which oddly isnt regression)\n",
        "\n",
        "from sklearn.linear_model import LogisticRegression\n",
        "\n",
        "logiReg = LogisticRegression()\n",
        "logiReg.fit(X_train,Y_train)\n",
        "\n",
        "Y_pred = logiReg.predict(X_test)\n",
        "print(Y_test, Y_pred)"
      ],
      "execution_count": null,
      "outputs": [
        {
          "output_type": "stream",
          "text": [
            "[1. 1. 1. 1. 1. 1. 1. 1. 1. 1. 1. 1. 1. 1. 1. 1. 1. 1. 2. 2. 1. 1. 1. 1.\n",
            " 1. 1. 1. 1. 3. 1. 1. 1. 1. 1. 2. 1. 1. 1. 1. 1. 1. 3. 1. 1. 1. 1. 1. 1.\n",
            " 1. 1. 1. 2. 1. 1. 1. 1. 1. 1. 1. 1. 3. 3. 1. 1. 1. 1. 3. 2. 1. 1. 1. 1.\n",
            " 1. 2. 1. 1. 1. 1. 1. 1. 3. 1. 2. 1. 1. 1. 1. 1. 1. 3. 1. 1. 1. 1. 2. 1.\n",
            " 1. 1. 1. 1. 1. 1. 1. 1. 3. 1. 1. 1. 1. 1. 1. 1. 1. 1. 1. 1. 1. 2. 3. 3.\n",
            " 1. 1. 1. 1. 1. 1. 1. 1. 1. 1. 3. 1. 2. 1. 3. 1. 3. 1. 1. 2. 1. 3. 1. 2.\n",
            " 2. 2. 1. 1. 1. 1. 1. 1. 1. 1. 1. 1. 1. 1. 1. 1. 1. 1. 1. 1. 1. 1. 1. 1.\n",
            " 1. 1. 1. 1. 3. 2. 3. 1. 3. 1. 3. 1. 2. 3. 1. 1. 1. 1. 1. 1. 1. 2. 1. 1.\n",
            " 2. 1. 1. 1. 1. 1. 1. 1. 1. 1. 1. 1. 1. 1. 3. 1. 1. 1. 2. 1. 1. 1. 1. 1.\n",
            " 1. 1. 1. 1. 1. 1. 2. 2. 1. 3. 1. 2. 1. 1. 1. 1. 3. 1. 1. 1. 2. 1. 2. 1.\n",
            " 1. 2. 1. 1. 1. 2. 1. 2. 1. 3. 3. 1. 3. 1. 1. 1. 1. 1. 3. 1. 2. 1. 1. 1.\n",
            " 2. 1. 1. 1. 1. 1. 1. 1. 1. 1. 2. 3. 1. 1. 1. 1. 1. 1. 1. 1. 3. 1. 1. 1.\n",
            " 1. 2. 1. 1. 1. 1. 1. 1. 1. 1. 1. 1. 1. 1. 1. 3. 1. 1. 1. 3. 1. 1. 2. 1.\n",
            " 2. 1. 1. 1. 1. 1. 1. 1. 2. 3. 1. 1. 1. 1. 3. 1. 1. 1. 1. 1. 2. 1. 1. 1.\n",
            " 1. 2. 2. 1. 1. 2. 3. 2. 1. 1. 1. 2. 1. 2. 1. 1. 1. 3. 1. 2. 1. 1. 1. 1.\n",
            " 1. 1. 1. 1. 2. 3. 1. 1. 1. 1. 1. 1. 3. 1. 1. 1. 1. 2. 1. 1. 1. 1. 1. 2.\n",
            " 1. 1. 1. 1. 1. 1. 1. 1. 2. 1. 2. 1. 1. 2. 1. 1. 1. 1. 2. 2. 1. 1. 1. 1.\n",
            " 1. 1. 2. 1. 3. 3. 1. 1. 1. 1. 1. 1. 1. 2. 3. 2. 1. 1.] [1. 1. 1. 1. 1. 1. 1. 1. 1. 1. 1. 1. 1. 1. 1. 1. 1. 1. 1. 1. 1. 1. 1. 1.\n",
            " 1. 1. 1. 1. 1. 1. 1. 1. 1. 1. 1. 1. 1. 1. 1. 1. 1. 1. 1. 2. 1. 1. 1. 1.\n",
            " 1. 1. 2. 1. 2. 1. 1. 1. 1. 1. 1. 1. 1. 1. 1. 1. 1. 1. 2. 1. 1. 1. 1. 1.\n",
            " 1. 1. 1. 1. 1. 1. 1. 1. 1. 1. 1. 1. 1. 1. 1. 1. 1. 1. 1. 1. 1. 1. 1. 1.\n",
            " 1. 1. 1. 1. 1. 1. 1. 1. 1. 1. 1. 1. 1. 1. 1. 1. 1. 1. 2. 1. 1. 1. 1. 1.\n",
            " 1. 1. 1. 1. 1. 1. 1. 2. 1. 1. 1. 1. 1. 1. 1. 1. 1. 1. 1. 1. 1. 1. 1. 1.\n",
            " 1. 2. 1. 1. 1. 1. 1. 1. 1. 1. 1. 1. 1. 1. 1. 1. 1. 1. 1. 1. 1. 1. 1. 1.\n",
            " 1. 1. 1. 1. 1. 1. 1. 1. 1. 1. 1. 1. 1. 1. 1. 1. 1. 1. 1. 1. 1. 1. 1. 2.\n",
            " 1. 1. 1. 1. 1. 1. 1. 1. 1. 1. 1. 1. 2. 1. 1. 1. 1. 1. 1. 1. 1. 1. 1. 1.\n",
            " 1. 1. 1. 1. 1. 1. 1. 1. 1. 1. 1. 1. 1. 1. 1. 1. 1. 1. 1. 1. 1. 1. 1. 1.\n",
            " 1. 1. 1. 1. 1. 1. 2. 1. 1. 1. 1. 1. 1. 1. 1. 1. 1. 1. 1. 1. 1. 1. 1. 1.\n",
            " 1. 1. 1. 1. 1. 1. 1. 1. 1. 1. 1. 1. 1. 1. 1. 1. 1. 1. 1. 1. 1. 1. 1. 1.\n",
            " 1. 1. 1. 1. 1. 1. 1. 1. 1. 1. 1. 1. 1. 1. 1. 1. 1. 1. 1. 1. 1. 1. 1. 1.\n",
            " 2. 1. 1. 1. 1. 1. 1. 1. 1. 1. 1. 1. 1. 1. 1. 1. 1. 1. 1. 1. 1. 2. 1. 1.\n",
            " 1. 1. 1. 1. 1. 1. 1. 1. 1. 1. 1. 1. 1. 1. 1. 1. 1. 1. 1. 2. 1. 1. 1. 1.\n",
            " 1. 1. 1. 1. 1. 1. 1. 1. 1. 1. 1. 1. 1. 1. 1. 1. 1. 1. 1. 2. 1. 1. 1. 1.\n",
            " 1. 1. 1. 1. 1. 1. 1. 1. 1. 2. 2. 1. 1. 2. 1. 1. 1. 1. 1. 1. 1. 1. 1. 1.\n",
            " 1. 1. 1. 1. 1. 1. 1. 1. 1. 1. 1. 1. 1. 1. 1. 1. 1. 1.]\n"
          ],
          "name": "stdout"
        }
      ]
    },
    {
      "cell_type": "code",
      "metadata": {
        "id": "XFl6kUnafdX6",
        "outputId": "3fbe150a-80c1-4ba1-db25-5104d87f27dc"
      },
      "source": [
        "from sklearn.metrics import confusion_matrix, accuracy_score, precision_score, recall_score\n",
        "\n",
        "print(\"Confusion matrix: \\n\", confusion_matrix(Y_test, Y_pred))\n",
        "print(\"Accuracy: \\n\", accuracy_score(Y_test, Y_pred))\n",
        "print(\"Precision: \\n\", precision_score(Y_test, Y_pred, average=None, zero_division=1))\n",
        "print(\"Recall: \\n\", recall_score(Y_test, Y_pred, average=None, zero_division=1))"
      ],
      "execution_count": null,
      "outputs": [
        {
          "output_type": "stream",
          "text": [
            "Confusion matrix: \n",
            " [[323  16   0]\n",
            " [ 57   1   0]\n",
            " [ 29   0   0]]\n",
            "Accuracy: \n",
            " 0.7605633802816901\n",
            "Precision: \n",
            " [0.78973105 0.05882353 1.        ]\n",
            "Recall: \n",
            " [0.95280236 0.01724138 0.        ]\n"
          ],
          "name": "stdout"
        }
      ]
    },
    {
      "cell_type": "code",
      "metadata": {
        "id": "inA31GQhfdX7",
        "outputId": "090485cc-ac89-4d1b-a1e4-f018807f78a8"
      },
      "source": [
        "from sklearn.neighbors import KNeighborsClassifier\n",
        "knn = KNeighborsClassifier()\n",
        "knn.fit(X_train, Y_train)\n",
        "\n",
        "Y_pred_Knn = knn.predict(X_test)\n",
        "print(\"Confusion matrix: \\n\", confusion_matrix(Y_test, Y_pred_Knn))\n",
        "print(\"Accuracy: \\n\", accuracy_score(Y_test, Y_pred_Knn))\n"
      ],
      "execution_count": null,
      "outputs": [
        {
          "output_type": "stream",
          "text": [
            "Confusion matrix: \n",
            " [[314  20   5]\n",
            " [ 40  18   0]\n",
            " [ 17   4   8]]\n",
            "Accuracy: \n",
            " 0.7981220657276995\n"
          ],
          "name": "stdout"
        }
      ]
    },
    {
      "cell_type": "code",
      "metadata": {
        "id": "gqyNKgZTfdX8",
        "outputId": "3f88e097-e07f-4b28-b0f2-6b6251d6d028"
      },
      "source": [
        "# Implementing Decision Tree\n",
        "\n",
        "from sklearn.tree import DecisionTreeClassifier\n",
        "\n",
        "dTree = DecisionTreeClassifier()\n",
        "dTree.fit(X_train, Y_train)\n",
        "\n",
        "Y_pred_dTree = dTree.predict(X_test)\n",
        "\n",
        "print(\"Confusion matrix: \\n\", confusion_matrix(Y_test, Y_pred_dTree))\n",
        "print(\"Accuracy: \\n\", accuracy_score(Y_test, Y_pred_dTree))\n"
      ],
      "execution_count": null,
      "outputs": [
        {
          "output_type": "stream",
          "text": [
            "Confusion matrix: \n",
            " [[316  17   4]\n",
            " [ 17  36   2]\n",
            " [  6   6  22]]\n",
            "Accuracy: \n",
            " 0.8779342723004695\n"
          ],
          "name": "stdout"
        }
      ]
    },
    {
      "cell_type": "code",
      "metadata": {
        "id": "8jW1BTa1fdX9",
        "outputId": "2fcfaa4d-5679-4932-affb-f401c80e4df0"
      },
      "source": [
        "#Random Forest\n",
        "from sklearn.ensemble import RandomForestClassifier\n",
        "\n",
        "rF = RandomForestClassifier()\n",
        "rF.fit(X_train, Y_train)\n",
        "\n",
        "Y_pred_rF = rF.predict(X_test)\n",
        "\n",
        "print(\"Confusion Matrix:\\n\", confusion_matrix(Y_test, Y_pred_rF))\n",
        "print(\"Accuracy:\\n\", accuracy_score(Y_test, Y_pred_rF))"
      ],
      "execution_count": null,
      "outputs": [
        {
          "output_type": "stream",
          "text": [
            "Confusion Matrix:\n",
            " [[309  16  14]\n",
            " [ 27  19  12]\n",
            " [  7   5  17]]\n",
            "Accuracy:\n",
            " 0.8098591549295775\n"
          ],
          "name": "stdout"
        }
      ]
    },
    {
      "cell_type": "code",
      "metadata": {
        "id": "k_M8pCxhfdX-"
      },
      "source": [
        ""
      ],
      "execution_count": null,
      "outputs": []
    }
  ]
}