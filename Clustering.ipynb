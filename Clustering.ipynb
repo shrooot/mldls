{
  "nbformat": 4,
  "nbformat_minor": 0,
  "metadata": {
    "colab": {
      "name": "Clustering.ipynb",
      "provenance": [],
      "include_colab_link": true
    },
    "kernelspec": {
      "name": "python3",
      "display_name": "Python 3"
    },
    "language_info": {
      "name": "python"
    }
  },
  "cells": [
    {
      "cell_type": "markdown",
      "metadata": {
        "id": "view-in-github",
        "colab_type": "text"
      },
      "source": [
        "<a href=\"https://colab.research.google.com/github/yashraj-02-techie/mldls/blob/main/Clustering.ipynb\" target=\"_parent\"><img src=\"https://colab.research.google.com/assets/colab-badge.svg\" alt=\"Open In Colab\"/></a>"
      ]
    },
    {
      "cell_type": "code",
      "metadata": {
        "id": "dyJHuxfRRTlT"
      },
      "source": [
        "#importing libraries\n",
        "import pandas as pd\n",
        "import numpy as np\n",
        "import matplotlib.pyplot as plt"
      ],
      "execution_count": null,
      "outputs": []
    },
    {
      "cell_type": "code",
      "metadata": {
        "colab": {
          "base_uri": "https://localhost:8080/"
        },
        "id": "8SGcRuJHRdoD",
        "outputId": "6975a411-8ee8-45f4-baaa-e4e35e96e277"
      },
      "source": [
        "data = pd.read_csv(\"/content/Iris.csv\")\n",
        "print(data)"
      ],
      "execution_count": null,
      "outputs": [
        {
          "output_type": "stream",
          "text": [
            "     SepalLengthCm  SepalWidthCm\n",
            "0              5.1           3.5\n",
            "1              4.9           3.0\n",
            "2              4.7           3.2\n",
            "3              4.6           3.1\n",
            "4              5.0           3.6\n",
            "..             ...           ...\n",
            "145            6.7           3.0\n",
            "146            6.3           2.5\n",
            "147            6.5           3.0\n",
            "148            6.2           3.4\n",
            "149            5.9           3.0\n",
            "\n",
            "[150 rows x 2 columns]\n"
          ],
          "name": "stdout"
        }
      ]
    },
    {
      "cell_type": "code",
      "metadata": {
        "id": "HE-4--WGRnpH"
      },
      "source": [
        "X = data.iloc[:,:].values\n",
        "x1= data.iloc[:,0].values\n",
        "x2= data.iloc[:,1].values"
      ],
      "execution_count": null,
      "outputs": []
    },
    {
      "cell_type": "code",
      "metadata": {
        "colab": {
          "base_uri": "https://localhost:8080/",
          "height": 285
        },
        "id": "h8kitI0_Sof_",
        "outputId": "55291377-c2e5-47b4-cdd8-6c174ae83188"
      },
      "source": [
        "plt.scatter(x1, x2)\n",
        "plt.plot()"
      ],
      "execution_count": null,
      "outputs": [
        {
          "output_type": "execute_result",
          "data": {
            "text/plain": [
              "[]"
            ]
          },
          "metadata": {
            "tags": []
          },
          "execution_count": 32
        },
        {
          "output_type": "display_data",
          "data": {
            "image/png": "[encoded data removed]",
            "text/plain": [
              "<Figure size 432x288 with 1 Axes>"
            ]
          },
          "metadata": {
            "tags": [],
            "needs_background": "light"
          }
        }
      ]
    },
    {
      "cell_type": "code",
      "metadata": {
        "colab": {
          "base_uri": "https://localhost:8080/"
        },
        "id": "iGW687giSKDC",
        "outputId": "8e7cdfd1-63d9-4297-bee2-8fc869fa05be"
      },
      "source": [
        "from sklearn.cluster import KMeans\n",
        "# Number of clusters\n",
        "kmeans = KMeans(n_clusters=3)\n",
        "# Getting the cluster labels\n",
        "labels = kmeans.fit_predict(data)\n",
        "data[\"KMeans\"]= labels\n",
        "# Centroid values\n",
        "centroids = kmeans.cluster_centers_\n",
        "print(\"Centroid values\")\n",
        "print(centroids) \n"
      ],
      "execution_count": null,
      "outputs": [
        {
          "output_type": "stream",
          "text": [
            "Centroid values\n",
            "[[5.77358491 2.69245283]\n",
            " [6.81276596 3.07446809]\n",
            " [5.006      3.418     ]]\n"
          ],
          "name": "stdout"
        }
      ]
    },
    {
      "cell_type": "code",
      "metadata": {
        "colab": {
          "base_uri": "https://localhost:8080/"
        },
        "id": "A6QkSBeLZZwY",
        "outputId": "68f2a3fc-25d2-4134-eb87-a3cea1e2a5dc"
      },
      "source": [
        "print(data)"
      ],
      "execution_count": null,
      "outputs": [
        {
          "output_type": "stream",
          "text": [
            "     SepalLengthCm  SepalWidthCm  KMeans\n",
            "0              5.1           3.5       2\n",
            "1              4.9           3.0       2\n",
            "2              4.7           3.2       2\n",
            "3              4.6           3.1       2\n",
            "4              5.0           3.6       2\n",
            "..             ...           ...     ...\n",
            "145            6.7           3.0       1\n",
            "146            6.3           2.5       0\n",
            "147            6.5           3.0       1\n",
            "148            6.2           3.4       1\n",
            "149            5.9           3.0       0\n",
            "\n",
            "[150 rows x 3 columns]\n"
          ],
          "name": "stdout"
        }
      ]
    },
    {
      "cell_type": "code",
      "metadata": {
        "colab": {
          "base_uri": "https://localhost:8080/"
        },
        "id": "zil1ssshsyha",
        "outputId": "9e046b92-bb54-4a83-f43f-11262e51595c"
      },
      "source": [
        "len(X)"
      ],
      "execution_count": null,
      "outputs": [
        {
          "output_type": "execute_result",
          "data": {
            "text/plain": [
              "150"
            ]
          },
          "metadata": {
            "tags": []
          },
          "execution_count": 50
        }
      ]
    },
    {
      "cell_type": "code",
      "metadata": {
        "colab": {
          "base_uri": "https://localhost:8080/",
          "height": 285
        },
        "id": "JMXv1oBfSkSc",
        "outputId": "991faab4-6852-431f-e9ae-4475d00c359c"
      },
      "source": [
        "k=3\n",
        "#plotting the clusters\n",
        "colors = ['r', 'g', 'b']\n",
        "fig, ax = plt.subplots()\n",
        "for i in range(k):\n",
        "        points = np.array([X[j] for j in range(len(X)) if labels[j] == i])\n",
        "        ax.scatter(points[:, 0], points[:, 1], c=colors[i])\n",
        "#plotting the centroids        \n",
        "ax.scatter(centroids[:, 0], centroids[:, 1], marker='*', s=500)\n",
        "\n"
      ],
      "execution_count": null,
      "outputs": [
        {
          "output_type": "execute_result",
          "data": {
            "text/plain": [
              "<matplotlib.collections.PathCollection at 0x7f31b7069c90>"
            ]
          },
          "metadata": {
            "tags": []
          },
          "execution_count": 52
        },
        {
          "output_type": "display_data",
          "data": {
            "image/png": "[encoded data removed]",
            "text/plain": [
              "<Figure size 432x288 with 1 Axes>"
            ]
          },
          "metadata": {
            "tags": [],
            "needs_background": "light"
          }
        }
      ]
    },
    {
      "cell_type": "code",
      "metadata": {
        "id": "KUOgU7dVhHk5"
      },
      "source": [
        ""
      ],
      "execution_count": null,
      "outputs": []
    }
  ]
}